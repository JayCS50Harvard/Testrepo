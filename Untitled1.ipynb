{
 "cells": [
  {
   "cell_type": "markdown",
   "id": "e2412563-a84e-48fd-836b-6f5a7eca6f2b",
   "metadata": {},
   "source": [
    "<h1> My Jupyter Notebook on IBM Watson Studio </h1>\n",
    "\n",
    "\n"
   ]
  },
  {
   "cell_type": "markdown",
   "id": "8a0c3363-8ff8-4785-950e-406d6db6857a",
   "metadata": {},
   "source": [
    "**Jay_Choudhari**\n",
    "Student"
   ]
  },
  {
   "cell_type": "markdown",
   "id": "0a7381d4-2d51-42b5-ab57-57824b14818c",
   "metadata": {},
   "source": [
    "_I am interested in data science because I want to make affordable and quality education for the students who are oppressed and are backward_\n",
    "\n"
   ]
  },
  {
   "cell_type": "markdown",
   "id": "ddf241a7-223c-4f41-8c10-21b4fa1f5e16",
   "metadata": {},
   "source": [
    "<h3> The below code is supposed to add three numbers which are 1,3,5 </h3>\n"
   ]
  },
  {
   "cell_type": "code",
   "execution_count": 5,
   "id": "208229e2-e461-45dc-882a-d7c9045ea844",
   "metadata": {},
   "outputs": [
    {
     "name": "stdout",
     "output_type": "stream",
     "text": [
      "9\n"
     ]
    }
   ],
   "source": [
    "print(1+3+5)\n"
   ]
  },
  {
   "cell_type": "markdown",
   "id": "815f427c-ddfa-4a29-b998-a3c21f4722e8",
   "metadata": {},
   "source": [
    "<ol>\n",
    "    <li> Jay </li>\n",
    "    <li> Mahima </li>\n",
    "    <li> Prerna </li>\n",
    "    </ol>\n",
    "    \n",
    "   <ul>\n",
    "    <li> Jay </li>\n",
    "     <li> Mahima </li>\n",
    "     <li> Prerna </li>\n",
    "    </ul>\n",
    "    \n",
    "     \n",
    "    \n",
    "    \n",
    "    \n",
    "    \n",
    "    \n",
    "    \n"
   ]
  },
  {
   "cell_type": "code",
   "execution_count": null,
   "id": "38f02855-a308-4e04-ac93-0e65de594e58",
   "metadata": {},
   "outputs": [],
   "source": []
  }
 ],
 "metadata": {
  "kernelspec": {
   "display_name": "Python",
   "language": "python",
   "name": "conda-env-python-py"
  },
  "language_info": {
   "codemirror_mode": {
    "name": "ipython",
    "version": 3
   },
   "file_extension": ".py",
   "mimetype": "text/x-python",
   "name": "python",
   "nbconvert_exporter": "python",
   "pygments_lexer": "ipython3",
   "version": "3.7.12"
  }
 },
 "nbformat": 4,
 "nbformat_minor": 5
}
